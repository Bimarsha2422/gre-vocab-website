{
 "cells": [
  {
   "cell_type": "code",
   "execution_count": 2,
   "metadata": {},
   "outputs": [],
   "source": [
    "import json \n",
    "import pandas as pd \n",
    "\n",
    "essays = pd.DataFrame(columns=['topic', 'identifier', 'essay', 'words_missed'])\n",
    "allWords = json.load(open('wordmeaning.json'))\n",
    "wordsDF = pd.DataFrame(allWords).T.reset_index().rename(columns={'index':'word'})\n",
    "\n",
    "def missed(wordlist, essay): \n",
    "    return [word for word in wordlist if word not in essay], [word for word in wordlist if word not in list(map(lambda x: x.strip(',').strip(\"'\").strip('\"').strip('.'),essay.split(' ')))]\n",
    "\n",
    "def insert_essay(topic, identifier, essay, wordlist): \n",
    "    global essays \n",
    "    words_missed = missed(wordlist, essay)\n",
    "    essays = pd.concat([essays, pd.DataFrame([[topic, identifier, essay, words_missed]], columns=['topic', 'identifier', 'essay', 'words_missed'])])\n",
    "\n",
    "\n",
    "def extract_meaning(wordlist): \n",
    "    wordMeaning = wordsDF[wordsDF['word'].isin(wordlist)][['word','meaning']]\n",
    "    return list(map(lambda x: x[0] + ' - ' + x[1], list(zip(wordMeaning.word, wordMeaning.meaning))))\n",
    "    "
   ]
  },
  {
   "cell_type": "code",
   "execution_count": 5,
   "metadata": {},
   "outputs": [
    {
     "data": {
      "text/html": [
       "<div>\n",
       "<style scoped>\n",
       "    .dataframe tbody tr th:only-of-type {\n",
       "        vertical-align: middle;\n",
       "    }\n",
       "\n",
       "    .dataframe tbody tr th {\n",
       "        vertical-align: top;\n",
       "    }\n",
       "\n",
       "    .dataframe thead th {\n",
       "        text-align: right;\n",
       "    }\n",
       "</style>\n",
       "<table border=\"1\" class=\"dataframe\">\n",
       "  <thead>\n",
       "    <tr style=\"text-align: right;\">\n",
       "      <th></th>\n",
       "      <th>word</th>\n",
       "      <th>meaning</th>\n",
       "      <th>usage</th>\n",
       "      <th>roots</th>\n",
       "      <th>synonyms</th>\n",
       "    </tr>\n",
       "  </thead>\n",
       "  <tbody>\n",
       "    <tr>\n",
       "      <th>0</th>\n",
       "      <td>barren</td>\n",
       "      <td>not able to produce or support life, growth, o...</td>\n",
       "      <td>The barren land was unable to grow any plants ...</td>\n",
       "      <td>from Old French 'barren' meaning 'empty, unfru...</td>\n",
       "      <td>[infertile, sterile, desolate]</td>\n",
       "    </tr>\n",
       "    <tr>\n",
       "      <th>1</th>\n",
       "      <td>relegate</td>\n",
       "      <td>to move someone or something to a lower positi...</td>\n",
       "      <td>After a series of poor performances, the compa...</td>\n",
       "      <td>from Latin 'relegare' meaning 'to send back' o...</td>\n",
       "      <td>[demote, downgrade, demote]</td>\n",
       "    </tr>\n",
       "    <tr>\n",
       "      <th>2</th>\n",
       "      <td>dirge</td>\n",
       "      <td>a sad song or music played at a funeral to exp...</td>\n",
       "      <td>The mourners sang a dirge as the coffin was ca...</td>\n",
       "      <td>from Old French 'dirge' meaning 'lament', and ...</td>\n",
       "      <td>[elegy, requiem, threnody]</td>\n",
       "    </tr>\n",
       "    <tr>\n",
       "      <th>3</th>\n",
       "      <td>excoriate</td>\n",
       "      <td>to strongly criticize or condemn someone, or t...</td>\n",
       "      <td>The politician was excoriated by the media for...</td>\n",
       "      <td>from Latin 'excoriare' meaning 'to strip off t...</td>\n",
       "      <td>[castigate, denounce, flay]</td>\n",
       "    </tr>\n",
       "    <tr>\n",
       "      <th>4</th>\n",
       "      <td>curmudgeon</td>\n",
       "      <td>a grumpy and complaining person, often an olde...</td>\n",
       "      <td>The old curmudgeon next door always complained...</td>\n",
       "      <td>from Middle English 'curmudgeon' meaning 'mutt...</td>\n",
       "      <td>[crank, grouch, miser]</td>\n",
       "    </tr>\n",
       "  </tbody>\n",
       "</table>\n",
       "</div>"
      ],
      "text/plain": [
       "         word                                            meaning  \\\n",
       "0      barren  not able to produce or support life, growth, o...   \n",
       "1    relegate  to move someone or something to a lower positi...   \n",
       "2       dirge  a sad song or music played at a funeral to exp...   \n",
       "3   excoriate  to strongly criticize or condemn someone, or t...   \n",
       "4  curmudgeon  a grumpy and complaining person, often an olde...   \n",
       "\n",
       "                                               usage  \\\n",
       "0  The barren land was unable to grow any plants ...   \n",
       "1  After a series of poor performances, the compa...   \n",
       "2  The mourners sang a dirge as the coffin was ca...   \n",
       "3  The politician was excoriated by the media for...   \n",
       "4  The old curmudgeon next door always complained...   \n",
       "\n",
       "                                               roots  \\\n",
       "0  from Old French 'barren' meaning 'empty, unfru...   \n",
       "1  from Latin 'relegare' meaning 'to send back' o...   \n",
       "2  from Old French 'dirge' meaning 'lament', and ...   \n",
       "3  from Latin 'excoriare' meaning 'to strip off t...   \n",
       "4  from Middle English 'curmudgeon' meaning 'mutt...   \n",
       "\n",
       "                         synonyms  \n",
       "0  [infertile, sterile, desolate]  \n",
       "1     [demote, downgrade, demote]  \n",
       "2      [elegy, requiem, threnody]  \n",
       "3     [castigate, denounce, flay]  \n",
       "4          [crank, grouch, miser]  "
      ]
     },
     "execution_count": 5,
     "metadata": {},
     "output_type": "execute_result"
    }
   ],
   "source": [
    "wordsDF.head()"
   ]
  },
  {
   "cell_type": "code",
   "execution_count": 6,
   "metadata": {},
   "outputs": [],
   "source": [
    "words3 = ['abate', 'abjure', 'anomalous', 'antipathy ', 'arcane', 'arduous', 'artless', 'ascetic', 'assuage ', 'betray', 'bucolic ', 'burgeon', 'cacophonous ', 'canonize', 'censure', 'chicanery ', 'coalesce', 'cogent', 'compelling', 'contend', 'copious ', 'cosmopolitan', 'deference', 'desultory ', 'diffident', 'dilatory ', 'equivocate', 'polarize', 'prodigal', 'verbose']"
   ]
  },
  {
   "cell_type": "code",
   "execution_count": 7,
   "metadata": {},
   "outputs": [
    {
     "data": {
      "text/plain": [
       "['abjure - to promise to give up or reject something completely, often in a formal or serious way',\n",
       " 'anomalous - different from what is normal or expected',\n",
       " 'arcane - difficult to understand because it is mysterious or little-known',\n",
       " 'arduous - requiring a lot of hard work and energy, very tiring',\n",
       " 'ascetic - someone who practices extreme self-control and lives a simple life, often without comforts or luxuries',\n",
       " 'betray - to do something that hurts or is unfair to someone who trusts you, or to show a secret',\n",
       " 'burgeon - to start growing or increasing very quickly, becoming stronger and more successful',\n",
       " 'canonize - to officially accept something as a classic or a model of excellence',\n",
       " 'censure - to strongly criticize or condemn something or someone in a formal way',\n",
       " 'coalesce - to join or combine together to form a single thing or group',\n",
       " 'compelling - extremely interesting and hard to ignore',\n",
       " 'contend - to argue or fight for something, or to try hard to overcome a challenge',\n",
       " \"deference - showing respect and courtesy by giving in to someone's wishes\",\n",
       " 'equivocate - to say something that can be understood in more than one way, often to avoid taking a clear position',\n",
       " 'polarize - to cause people to have very different and strongly opposing views or opinions',\n",
       " 'prodigal - spending money freely and carelessly, without thinking about the cost',\n",
       " 'verbose - using too many words to express an idea, making it difficult to understand',\n",
       " 'abate - to become weaker or less severe, or to make something weaker or less severe',\n",
       " 'artless - being genuine and sincere, without trying to pretend or deceive',\n",
       " 'cogent - clear, logical, and convincing, making sense and easy to accept',\n",
       " 'cosmopolitan - relating to or containing people from many different cultures and backgrounds',\n",
       " 'diffident - lacking confidence in oneself, often feeling shy or hesitant']"
      ]
     },
     "execution_count": 7,
     "metadata": {},
     "output_type": "execute_result"
    }
   ],
   "source": [
    "extract_meaning(words3)"
   ]
  },
  {
   "cell_type": "code",
   "execution_count": 1,
   "metadata": {},
   "outputs": [],
   "source": [
    "wi2 = \"\"\" \n",
    "Picture this: you wake up one day, stretch, yawn, and suddenly realize you can't lie anymore. Not won't lie - can't lie. Every fib, every little white lie, every grandiose tall tale immediately turns your nose into a glowing red beacon that would make Rudolph jealous. Welcome to the world where every lie is instantly exposed, folks! Buckle up, because things are about to get hilariously honest.\n",
    "\n",
    "First off, let's pour one out for all the politicians who just collectively soiled their designer suits. Their carefully crafted speeches suddenly sound like a cacophonous toddler's stream of consciousness. \"Vote for me because I'm actually just desperate for validation and this seemed easier than therapy!\" Debates become less \"Presidential\" and more \"Jerry Springer,\" with candidates forced to abjure their usual chicanery and doubletalk. The only silver lining? At least now when they promise to fix potholes, they might actually do it.\n",
    "\n",
    "Dating apps? Oh boy. Profiles now read like confessions at an Overeaters Anonymous meeting. \"Jim, 35, likes long walks to the fridge and considers Netflix a personality trait.\" Turns out, six-pack abs are as rare as unicorns, and everyone's \"entrepreneur\" job title actually means \"I sell questionable supplements to my Facebook friends.\" It's arduous trying to find someone genuine amid all the desultory profiles.\n",
    "\n",
    "Family gatherings become an arena for brutal honesty. Aunt Marge can no longer claim she loves your artless attempt at vegan lasagna, and Uncle Bob's stories about his \"wild youth\" are revealed to be mostly embellished tales from \"Friends\" episodes. On the bright side, Christmas gift exchanges are now refreshingly straightforward. \"Thanks for the socks, I'll wear them when all my other pairs are dirty!\"\n",
    "\n",
    "In the business world, corporate slogans undergo a hilarious makeover. \"Just Do It\" becomes \"Just Buy It, We Need Your Money.\" The beauty industry's promises to make you look 20 years younger are replaced with, \"This cream might marginally improve your skin's hydration, but let's be real, it's mostly just fancy-smelling goop.\"\n",
    "\n",
    "School becomes a battleground of brutal honesty. \"The dog ate my homework\" is replaced with \"I was too busy binge-watching cat videos.\" Teachers can no longer claim that there are no stupid questions, leading to a lot of awkward silences in classrooms. Students must contend with their diffident nature when answering questions, making the learning environment more compelling in its raw honesty.\n",
    "\n",
    "The fashion industry takes a hit when everyone has to admit that yes, those pants do make you look fat, and no, that jacket isn't \"vintage,\" it's just old. The emperor's new clothes? Now that's a story that would be over before it began.\n",
    "\n",
    "In this new world, job interviews become a comedic goldmine. \"Where do you see yourself in five years?\" \"Honestly? Probably still scrolling through memes in bed at 2 AM, questioning my life choices.\" Résumés now include sections like \"Skills I Claim to Have But Don't Really\" and \"References Who Will Lie For Me (Oh Wait, They Can't Anymore).\" Employers find themselves having to censure their employees more often due to the unabated honesty.\n",
    "\n",
    "Conspiracy theorists have a field day... for about five minutes. Turns out, the Earth is round, vaccines don't cause autism, and the moon landing was real. Their new rallying cry? \"The truth is out there, and it's disappointingly mundane!\"\n",
    "\n",
    "On the international stage, diplomacy becomes refreshingly straightforward. World leaders can no longer equivocate about their true intentions. Peace talks now sound like passive-aggressive neighbors arguing over hedge height. \"We're not building nuclear weapons, we're just really into fancy fireworks, okay?\" This honesty starts to polarize some nations, while others begin to coalesce around shared truths.\n",
    "\n",
    "Movie night with friends becomes an exercise in brutal honesty. \"No, I don't want to watch your indie French film about existential ennui. Can we please just watch explosions and car chases like normal people?\"\n",
    "\n",
    "The legal system gets a major overhaul. Court cases are now over in minutes. \"Did you do it?\" \"...Yes.\" \"Cool, case closed.\" Prisons empty out as no one can lie about their innocence, but they quickly fill up again with people arrested for \"being too damn honest.\"\n",
    "\n",
    "In this world, the phrase \"brutally honest\" becomes redundant. Everyone's just... honest. It's both refreshing and terrifying. People start carrying around stress balls and bite guards to prevent themselves from blurting out every thought that crosses their mind.\n",
    "\n",
    "But here's the kicker - amid all this chaos and hilarity, something unexpected happens. People start to appreciate the raw, unfiltered truth. Sure, it's uncomfortable at first, like wearing a wool sweater in summer. But slowly, folks realize that all this honesty is actually... kind of nice?\n",
    "\n",
    "Relationships become more genuine. Without the ability to hide behind white lies, people are forced to contend with issues head-on. Couples therapy sessions become shockingly efficient. \"Yes, your cooking is terrible, but I love you anyway. Can we order pizza now?\"\n",
    "\n",
    "Politicians, stripped of their ability to make empty promises, start focusing on actual, achievable goals. Voter turnout skyrockets as people tune in just to hear what outrageous truths will be revealed next.\n",
    "\n",
    "In a twist that surprises everyone, global tensions actually start to abate. It's hard to maintain conflict when you can't lie about your motives or capabilities. International summits become more productive, if a bit more awkward. \"We don't actually hate you; we're just jealous of your superior snack foods.\"\n",
    "\n",
    "As society adjusts to this new normal, people discover a newfound appreciation for tact and kindness. Unable to rely on little white lies, they learn the art of telling the truth gently. Compliments become rare but incredibly meaningful. \"Your painting isn't very good, but your dedication to improving is admirable!\"\n",
    "\n",
    "In the end, this world of radical honesty turns out to be both hilarious and strangely beautiful. Sure, egos are bruised, and some illusions are shattered. But in their place grows a society built on genuine understanding and connection.\n",
    "\n",
    "Now, let's delve into some of the more anomalous effects this truth-telling phenomenon has on various aspects of society:\n",
    "\n",
    "1. The art world experiences a burgeoning of brutally honest critiques. Gone are the days of pretentious, verbose descriptions of abstract paintings. Instead, gallery openings become hotbeds of cogent, no-holds-barred feedback. \"Your use of color is as appealing as a mud puddle, but I admire your dedication to your craft,\" becomes a typical review.\n",
    "\n",
    "2. The rise of \"truth tourism\" becomes a peculiar trend. Cosmopolitan cities known for their arcane customs and polite facades suddenly find themselves overrun with tourists seeking the unvarnished truth about local life. Tokyo's famously deferential culture clashes spectacularly with the new era of honesty, leading to some truly memorable cultural exchanges.\n",
    "\n",
    "3. Rural areas experience an unexpected renaissance. The bucolic charm of small towns, once overlooked in favor of big city glamour, becomes increasingly attractive to those seeking a simpler, more honest way of life. Urban dwellers, tired of the constant barrage of truths in densely populated areas, begin a mass exodus to the countryside.\n",
    "\n",
    "4. The self-help industry undergoes a radical transformation. Books with titles like \"Embrace Your Inner Jerk: A Guide to Living Your Truth\" and \"Sorry Not Sorry: Navigating Life Without Apologies\" become instant bestsellers. Motivational speakers find themselves having to quickly pivot from sugar-coated platitudes to hard-hitting home truths.\n",
    "\n",
    "5. In an unexpected turn of events, the most successful people in this new world are those who master the art of being truthful without betraying their own or others' confidences. These individuals, dubbed \"Truth Whisperers,\" become highly sought after in both personal and professional spheres for their ability to navigate the treacherous waters of constant honesty.\n",
    "\n",
    "6. The fashion for ascetic lifestyles skyrockets as people realize they can no longer lie about their excessive consumption habits. Minimalism becomes not just a design trend but a survival strategy in a world where you can't hide your prodigal spending behind closed doors.\n",
    "\n",
    "7. Paradoxically, the constant truth-telling leads to a surge in demand for escapist entertainment. People flock to fantasy novels, sci-fi movies, and virtual reality games in record numbers, seeking respite from the relentless honesty of their daily lives. The ability to immerse oneself in a world where lies still exist becomes a coveted luxury.\n",
    "\n",
    "8. A new political movement emerges, advocating for the right to selective silence. These \"Voluntary Mutes\" argue that if they can't lie, they should at least have the right to remain silent on topics they'd rather not be honest about. Their rallies are eerily quiet but surprisingly effective.\n",
    "\n",
    "9. The world of academia is turned on its head as scholars can no longer hide behind obfuscating language or dilatory tactics to avoid admitting when they don't know something. Phrases like \"further research is needed\" are replaced with \"I have no clue, but I'm working on it.\" Surprisingly, this leads to more rapid advancements in various fields as researchers are forced to be upfront about the limitations of their knowledge.\n",
    "\n",
    "10. In a final, unexpected twist, a small percentage of the population seems to be immune to the truth-telling effect. These individuals, dubbed \"Natural Liars,\" become objects of both antipathy and fascination. Some view them with suspicion and fear, while others seek to study and potentially canonize them as the last bastion of the art of deception in a world of radical honesty.\n",
    "\n",
    "As copious amounts of truth continue to flood every aspect of life, humanity finds itself navigating a brave new world where honesty isn't just the best policy—it's the only policy. And while it may not always be comfortable, it certainly makes for an interesting ride.\n",
    "\n",
    "Plus, think of all the money saved on poker nights and magic shows!\n",
    "\"\"\""
   ]
  },
  {
   "cell_type": "code",
   "execution_count": 4,
   "metadata": {},
   "outputs": [
    {
     "data": {
      "text/plain": [
       "1574"
      ]
     },
     "execution_count": 4,
     "metadata": {},
     "output_type": "execute_result"
    }
   ],
   "source": [
    "len(wi2.split(' '))"
   ]
  },
  {
   "cell_type": "code",
   "execution_count": 23,
   "metadata": {},
   "outputs": [
    {
     "data": {
      "text/plain": [
       "808"
      ]
     },
     "execution_count": 23,
     "metadata": {},
     "output_type": "execute_result"
    }
   ],
   "source": [
    "wi3 = \"\"\" \n",
    "Here’s the updated passage with the word \"cosmopolitan\" added in the right context:\n",
    "\n",
    "---\n",
    "\n",
    "In a world where lies suddenly become impossible, society finds itself thrust into an era of radical honesty. This anomalous phenomenon causes people's noses to glow red at the slightest fib, compelling everyone to face the arduous task of navigating life without deception.\n",
    "\n",
    "Politicians, forced to abjure their usual chicanery, deliver speeches that are refreshingly artless yet uncomfortably revealing. The once cacophonous din of campaign rhetoric gives way to stark admissions: \"Vote for me because I'm actually just desperate for validation!\" This honesty polarizes the electorate; some voters appreciate the candor, while others long for the comfort of carefully crafted promises.\n",
    "\n",
    "In the corporate world, verbose slogans undergo a hilarious makeover. \"Just Do It\" becomes \"Just Buy It, We Need Your Money.\" The beauty industry's promises to make you look younger are replaced with cogent statements like, \"This cream might marginally improve your skin's hydration, but let's be real, it's mostly just fancy-smelling goop.\"\n",
    "\n",
    "Dating apps transform into arenas of brutal honesty. Profiles now read like confessions: \"Jim, 35, prodigal spender, likes long walks to the fridge and considers Netflix a personality trait.\" Finding genuine connections becomes both easier and more challenging as people contend with the unvarnished truth about potential partners.\n",
    "\n",
    "The art world experiences a burgeoning of brutally honest critiques. Gone are the days of pretentious descriptions. Instead, gallery openings become hotbeds of clear, no-holds-barred feedback. \"Your use of color is as appealing as a mud puddle, but I admire your dedication,\" becomes a typical review.\n",
    "\n",
    "Academia undergoes a radical transformation as scholars can no longer hide behind arcane language or equivocate to avoid admitting when they don't know something. Dilatory tactics and vague promises of \"further research\" are replaced with frank admissions: \"I have no clue, but I'm working on it.\" Surprisingly, this leads to more rapid advancements as researchers are forced to be upfront about the limitations of their knowledge.\n",
    "\n",
    "In this new world, the most successful individuals are those who master the art of being truthful without betraying confidences. These \"Truth Whisperers\" become highly sought after for their ability to navigate the treacherous waters of constant honesty with tact and kindness.\n",
    "\n",
    "Cosmopolitan cities, known for their polite facades, clash spectacularly with the new era of honesty. Tokyo's culture of deference, for instance, struggles to coalesce with the blunt truth-telling now required. This leads to some truly memorable cultural exchanges and the rise of \"truth tourism.\" Even the most dilatory individuals find themselves pushed to adapt quickly to this new social paradigm.\n",
    "\n",
    "Paradoxically, the constant truth-telling leads to a surge in demand for escapist entertainment. People flock to fantasy novels and virtual reality games in copious numbers, seeking to assuage their discomfort and find respite from the relentless honesty of their daily lives.\n",
    "\n",
    "A small percentage of the population seems immune to the truth-telling effect. These \"Natural Liars\" become objects of both fascination and censure. Some view them with antipathy and suspicion, while others seek to canonize them as the last bastion of the art of deception.\n",
    "\n",
    "As society adjusts to this new normal, people discover a newfound appreciation for emotional intelligence. Unable to rely on white lies, they learn the art of telling the truth gently. Compliments become rare but incredibly meaningful. \"Your cooking needs improvement, but your willingness to learn is admirable!\"\n",
    "\n",
    "The fashion for ascetic lifestyles skyrockets as people can no longer hide their excessive consumption habits. Minimalism becomes not just a design trend but a survival strategy in a world of radical transparency.\n",
    "\n",
    "Surprisingly, global tensions begin to abate. It's challenging to maintain conflicts when you can't lie about your motives or capabilities. International summits become more productive, if awkward. \"We don't actually hate you; we're just jealous of your superior snack foods.\"\n",
    "\n",
    "Rural areas experience an unexpected renaissance. The bucolic charm of small towns, once overlooked in favor of big city glamour, becomes increasingly attractive to those seeking a simpler, more honest way of life. Urban dwellers, tired of the constant barrage of truths in densely populated areas, begin a mass exodus to the countryside, leaving behind the desultory remnants of their former lives.\n",
    "\n",
    "Even the most diffident individuals find their voices in this new world, as the fear of being caught in a lie no longer holds them back. As one newly confident speaker puts it, \"In a world where everyone's flaws are on display, there's a strange comfort in knowing we're all imperfect together.\"\n",
    "\n",
    "In the end, this world of unrelenting honesty proves both hilarious and strangely beautiful. While egos are bruised and illusions shattered, a society built on genuine understanding emerges. People learn to appreciate the raw, unfiltered truth, realizing that honesty, though sometimes uncomfortable, fosters deeper connections. As copious amounts of truth continue to flood every aspect of life, humanity finds itself navigating a brave new world where honesty isn't just the best policy—it's the only policy.\n",
    "\"\"\"\n",
    "\n",
    "len(wi3.split(' '))"
   ]
  },
  {
   "cell_type": "code",
   "execution_count": 19,
   "metadata": {},
   "outputs": [],
   "source": [
    "words3 = list(map(lambda x: x.strip(), words3)) "
   ]
  },
  {
   "cell_type": "code",
   "execution_count": 24,
   "metadata": {},
   "outputs": [
    {
     "data": {
      "text/plain": [
       "([], ['betray', 'burgeon', 'polarize'])"
      ]
     },
     "execution_count": 24,
     "metadata": {},
     "output_type": "execute_result"
    }
   ],
   "source": [
    "missed(words3, wi3)"
   ]
  },
  {
   "cell_type": "code",
   "execution_count": 25,
   "metadata": {},
   "outputs": [],
   "source": [
    "wi = \"\"\"In a world where lies suddenly become impossible, society finds itself thrust into an era of radical honesty. This anomalous phenomenon causes people's noses to glow red at the slightest fib, compelling everyone to face the arduous task of navigating life without deception.\n",
    "\n",
    "Politicians, forced to abjure their usual chicanery, deliver speeches that are refreshingly artless yet uncomfortably revealing. The once cacophonous din of campaign rhetoric gives way to stark admissions: \"Vote for me because I'm actually just desperate for validation!\" This honesty polarizes the electorate; some voters appreciate the candor, while others long for the comfort of carefully crafted promises.\n",
    "\n",
    "In the corporate world, verbose slogans undergo a hilarious makeover. \"Just Do It\" becomes \"Just Buy It, We Need Your Money.\" The beauty industry's promises to make you look younger are replaced with cogent statements like, \"This cream might marginally improve your skin's hydration, but let's be real, it's mostly just fancy-smelling goop.\"\n",
    "\n",
    "Dating apps transform into arenas of brutal honesty. Profiles now read like confessions: \"Jim, 35, prodigal spender, likes long walks to the fridge and considers Netflix a personality trait.\" Finding genuine connections becomes both easier and more challenging as people contend with the unvarnished truth about potential partners.\n",
    "\n",
    "The art world experiences a burgeoning of brutally honest critiques. Gone are the days of pretentious descriptions. Instead, gallery openings become hotbeds of clear, no-holds-barred feedback. \"Your use of color is as appealing as a mud puddle, but I admire your dedication,\" becomes a typical review.\n",
    "\n",
    "Academia undergoes a radical transformation as scholars can no longer hide behind arcane language or equivocate to avoid admitting when they don't know something. Dilatory tactics and vague promises of \"further research\" are replaced with frank admissions: \"I have no clue, but I'm working on it.\" Surprisingly, this leads to more rapid advancements as researchers are forced to be upfront about the limitations of their knowledge.\n",
    "\n",
    "In this new world, the most successful individuals are those who master the art of being truthful without betraying confidences. These \"Truth Whisperers\" become highly sought after for their ability to navigate the treacherous waters of constant honesty with tact and kindness.\n",
    "\n",
    "Cosmopolitan cities, known for their polite facades, clash spectacularly with the new era of honesty. Tokyo's culture of deference, for instance, struggles to coalesce with the blunt truth-telling now required. This leads to some truly memorable cultural exchanges and the rise of \"truth tourism.\" Even the most dilatory individuals find themselves pushed to adapt quickly to this new social paradigm.\n",
    "\n",
    "Paradoxically, the constant truth-telling leads to a surge in demand for escapist entertainment. People flock to fantasy novels and virtual reality games in copious numbers, seeking to assuage their discomfort and find respite from the relentless honesty of their daily lives.\n",
    "\n",
    "A small percentage of the population seems immune to the truth-telling effect. These \"Natural Liars\" become objects of both fascination and censure. Some view them with antipathy and suspicion, while others seek to canonize them as the last bastion of the art of deception.\n",
    "\n",
    "As society adjusts to this new normal, people discover a newfound appreciation for emotional intelligence. Unable to rely on white lies, they learn the art of telling the truth gently. Compliments become rare but incredibly meaningful. \"Your cooking needs improvement, but your willingness to learn is admirable!\"\n",
    "\n",
    "The fashion for ascetic lifestyles skyrockets as people can no longer hide their excessive consumption habits. Minimalism becomes not just a design trend but a survival strategy in a world of radical transparency.\n",
    "\n",
    "Surprisingly, global tensions begin to abate. It's challenging to maintain conflicts when you can't lie about your motives or capabilities. International summits become more productive, if awkward. \"We don't actually hate you; we're just jealous of your superior snack foods.\"\n",
    "\n",
    "Rural areas experience an unexpected renaissance. The bucolic charm of small towns, once overlooked in favor of big city glamour, becomes increasingly attractive to those seeking a simpler, more honest way of life. Urban dwellers, tired of the constant barrage of truths in densely populated areas, begin a mass exodus to the countryside, leaving behind the desultory remnants of their former lives.\n",
    "\n",
    "Even the most diffident individuals find their voices in this new world, as the fear of being caught in a lie no longer holds them back. As one newly confident speaker puts it, \"In a world where everyone's flaws are on display, there's a strange comfort in knowing we're all imperfect together.\"\n",
    "\n",
    "In the end, this world of unrelenting honesty proves both hilarious and strangely beautiful. While egos are bruised and illusions shattered, a society built on genuine understanding emerges. People learn to appreciate the raw, unfiltered truth, realizing that honesty, though sometimes uncomfortable, fosters deeper connections. As copious amounts of truth continue to flood every aspect of life, humanity finds itself navigating a brave new world where honesty isn't just the best policy—it's the only policy.\"\"\""
   ]
  },
  {
   "cell_type": "code",
   "execution_count": 27,
   "metadata": {},
   "outputs": [
    {
     "data": {
      "text/plain": [
       "[\"In a world where lies suddenly become impossible, society finds itself thrust into an era of radical honesty. This anomalous phenomenon causes people's noses to glow red at the slightest fib, compelling everyone to face the arduous task of navigating life without deception.\",\n",
       " 'Politicians, forced to abjure their usual chicanery, deliver speeches that are refreshingly artless yet uncomfortably revealing. The once cacophonous din of campaign rhetoric gives way to stark admissions: \"Vote for me because I\\'m actually just desperate for validation!\" This honesty polarizes the electorate; some voters appreciate the candor, while others long for the comfort of carefully crafted promises.',\n",
       " 'In the corporate world, verbose slogans undergo a hilarious makeover. \"Just Do It\" becomes \"Just Buy It, We Need Your Money.\" The beauty industry\\'s promises to make you look younger are replaced with cogent statements like, \"This cream might marginally improve your skin\\'s hydration, but let\\'s be real, it\\'s mostly just fancy-smelling goop.\"',\n",
       " 'Dating apps transform into arenas of brutal honesty. Profiles now read like confessions: \"Jim, 35, prodigal spender, likes long walks to the fridge and considers Netflix a personality trait.\" Finding genuine connections becomes both easier and more challenging as people contend with the unvarnished truth about potential partners.',\n",
       " 'The art world experiences a burgeoning of brutally honest critiques. Gone are the days of pretentious descriptions. Instead, gallery openings become hotbeds of clear, no-holds-barred feedback. \"Your use of color is as appealing as a mud puddle, but I admire your dedication,\" becomes a typical review.',\n",
       " 'Academia undergoes a radical transformation as scholars can no longer hide behind arcane language or equivocate to avoid admitting when they don\\'t know something. Dilatory tactics and vague promises of \"further research\" are replaced with frank admissions: \"I have no clue, but I\\'m working on it.\" Surprisingly, this leads to more rapid advancements as researchers are forced to be upfront about the limitations of their knowledge.',\n",
       " 'In this new world, the most successful individuals are those who master the art of being truthful without betraying confidences. These \"Truth Whisperers\" become highly sought after for their ability to navigate the treacherous waters of constant honesty with tact and kindness.',\n",
       " 'Cosmopolitan cities, known for their polite facades, clash spectacularly with the new era of honesty. Tokyo\\'s culture of deference, for instance, struggles to coalesce with the blunt truth-telling now required. This leads to some truly memorable cultural exchanges and the rise of \"truth tourism.\" Even the most dilatory individuals find themselves pushed to adapt quickly to this new social paradigm.',\n",
       " 'Paradoxically, the constant truth-telling leads to a surge in demand for escapist entertainment. People flock to fantasy novels and virtual reality games in copious numbers, seeking to assuage their discomfort and find respite from the relentless honesty of their daily lives.',\n",
       " 'A small percentage of the population seems immune to the truth-telling effect. These \"Natural Liars\" become objects of both fascination and censure. Some view them with antipathy and suspicion, while others seek to canonize them as the last bastion of the art of deception.',\n",
       " 'As society adjusts to this new normal, people discover a newfound appreciation for emotional intelligence. Unable to rely on white lies, they learn the art of telling the truth gently. Compliments become rare but incredibly meaningful. \"Your cooking needs improvement, but your willingness to learn is admirable!\"',\n",
       " 'The fashion for ascetic lifestyles skyrockets as people can no longer hide their excessive consumption habits. Minimalism becomes not just a design trend but a survival strategy in a world of radical transparency.',\n",
       " 'Surprisingly, global tensions begin to abate. It\\'s challenging to maintain conflicts when you can\\'t lie about your motives or capabilities. International summits become more productive, if awkward. \"We don\\'t actually hate you; we\\'re just jealous of your superior snack foods.\"',\n",
       " 'Rural areas experience an unexpected renaissance. The bucolic charm of small towns, once overlooked in favor of big city glamour, becomes increasingly attractive to those seeking a simpler, more honest way of life. Urban dwellers, tired of the constant barrage of truths in densely populated areas, begin a mass exodus to the countryside, leaving behind the desultory remnants of their former lives.',\n",
       " 'Even the most diffident individuals find their voices in this new world, as the fear of being caught in a lie no longer holds them back. As one newly confident speaker puts it, \"In a world where everyone\\'s flaws are on display, there\\'s a strange comfort in knowing we\\'re all imperfect together.\"',\n",
       " \"In the end, this world of unrelenting honesty proves both hilarious and strangely beautiful. While egos are bruised and illusions shattered, a society built on genuine understanding emerges. People learn to appreciate the raw, unfiltered truth, realizing that honesty, though sometimes uncomfortable, fosters deeper connections. As copious amounts of truth continue to flood every aspect of life, humanity finds itself navigating a brave new world where honesty isn't just the best policy—it's the only policy.\"]"
      ]
     },
     "execution_count": 27,
     "metadata": {},
     "output_type": "execute_result"
    }
   ],
   "source": [
    "wi.split('\\n\\n')"
   ]
  },
  {
   "cell_type": "code",
   "execution_count": null,
   "metadata": {},
   "outputs": [],
   "source": []
  },
  {
   "cell_type": "code",
   "execution_count": null,
   "metadata": {},
   "outputs": [],
   "source": []
  }
 ],
 "metadata": {
  "kernelspec": {
   "display_name": "Python 3",
   "language": "python",
   "name": "python3"
  },
  "language_info": {
   "codemirror_mode": {
    "name": "ipython",
    "version": 3
   },
   "file_extension": ".py",
   "mimetype": "text/x-python",
   "name": "python",
   "nbconvert_exporter": "python",
   "pygments_lexer": "ipython3",
   "version": "3.10.13"
  }
 },
 "nbformat": 4,
 "nbformat_minor": 2
}
