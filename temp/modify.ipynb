{
 "cells": [
  {
   "cell_type": "code",
   "execution_count": 53,
   "metadata": {},
   "outputs": [],
   "source": [
    "import json \n",
    "import pandas as pd \n",
    "\n",
    "essays = pd.DataFrame(columns=['topic', 'identifier', 'essay', 'words_missed'])\n",
    "allWords = json.load(open('wordmeaning.json'))\n",
    "wordsDF = pd.DataFrame(allWords).T.reset_index().rename(columns={'index':'word'})\n",
    "\n",
    "def missed(wordlist, essay): \n",
    "    return [word for word in wordlist if word not in essay] \n",
    "\n",
    "def insert_essay(topic, identifier, essay, wordlist): \n",
    "    global essays \n",
    "    words_missed = missed(wordlist, essay)\n",
    "    essays = pd.concat([essays, pd.DataFrame([[topic, identifier, essay, words_missed]], columns=['topic', 'identifier', 'essay', 'words_missed'])])\n",
    "\n",
    "\n",
    "def extract_meaning(wordlist): \n",
    "    wordMeaning = wordsDF[wordsDF['word'].isin(wordlist)][['word','meaning']]\n",
    "    return list(map(lambda x: x[0] + ' - ' + x[1], list(zip(wordMeaning.word, wordMeaning.meaning))))\n",
    "    "
   ]
  },
  {
   "cell_type": "code",
   "execution_count": 17,
   "metadata": {},
   "outputs": [
    {
     "data": {
      "text/html": [
       "<div>\n",
       "<style scoped>\n",
       "    .dataframe tbody tr th:only-of-type {\n",
       "        vertical-align: middle;\n",
       "    }\n",
       "\n",
       "    .dataframe tbody tr th {\n",
       "        vertical-align: top;\n",
       "    }\n",
       "\n",
       "    .dataframe thead th {\n",
       "        text-align: right;\n",
       "    }\n",
       "</style>\n",
       "<table border=\"1\" class=\"dataframe\">\n",
       "  <thead>\n",
       "    <tr style=\"text-align: right;\">\n",
       "      <th></th>\n",
       "      <th>word</th>\n",
       "      <th>meaning</th>\n",
       "      <th>usage</th>\n",
       "      <th>roots</th>\n",
       "      <th>synonyms</th>\n",
       "    </tr>\n",
       "  </thead>\n",
       "  <tbody>\n",
       "    <tr>\n",
       "      <th>0</th>\n",
       "      <td>barren</td>\n",
       "      <td>not able to produce or support life, growth, o...</td>\n",
       "      <td>The barren land was unable to grow any plants ...</td>\n",
       "      <td>from Old French 'barren' meaning 'empty, unfru...</td>\n",
       "      <td>[infertile, sterile, desolate]</td>\n",
       "    </tr>\n",
       "    <tr>\n",
       "      <th>1</th>\n",
       "      <td>relegate</td>\n",
       "      <td>to move someone or something to a lower positi...</td>\n",
       "      <td>After a series of poor performances, the compa...</td>\n",
       "      <td>from Latin 'relegare' meaning 'to send back' o...</td>\n",
       "      <td>[demote, downgrade, demote]</td>\n",
       "    </tr>\n",
       "    <tr>\n",
       "      <th>2</th>\n",
       "      <td>dirge</td>\n",
       "      <td>a sad song or music played at a funeral to exp...</td>\n",
       "      <td>The mourners sang a dirge as the coffin was ca...</td>\n",
       "      <td>from Old French 'dirge' meaning 'lament', and ...</td>\n",
       "      <td>[elegy, requiem, threnody]</td>\n",
       "    </tr>\n",
       "    <tr>\n",
       "      <th>3</th>\n",
       "      <td>excoriate</td>\n",
       "      <td>to strongly criticize or condemn someone, or t...</td>\n",
       "      <td>The politician was excoriated by the media for...</td>\n",
       "      <td>from Latin 'excoriare' meaning 'to strip off t...</td>\n",
       "      <td>[castigate, denounce, flay]</td>\n",
       "    </tr>\n",
       "    <tr>\n",
       "      <th>4</th>\n",
       "      <td>curmudgeon</td>\n",
       "      <td>a grumpy and complaining person, often an olde...</td>\n",
       "      <td>The old curmudgeon next door always complained...</td>\n",
       "      <td>from Middle English 'curmudgeon' meaning 'mutt...</td>\n",
       "      <td>[crank, grouch, miser]</td>\n",
       "    </tr>\n",
       "  </tbody>\n",
       "</table>\n",
       "</div>"
      ],
      "text/plain": [
       "         word                                            meaning  \\\n",
       "0      barren  not able to produce or support life, growth, o...   \n",
       "1    relegate  to move someone or something to a lower positi...   \n",
       "2       dirge  a sad song or music played at a funeral to exp...   \n",
       "3   excoriate  to strongly criticize or condemn someone, or t...   \n",
       "4  curmudgeon  a grumpy and complaining person, often an olde...   \n",
       "\n",
       "                                               usage  \\\n",
       "0  The barren land was unable to grow any plants ...   \n",
       "1  After a series of poor performances, the compa...   \n",
       "2  The mourners sang a dirge as the coffin was ca...   \n",
       "3  The politician was excoriated by the media for...   \n",
       "4  The old curmudgeon next door always complained...   \n",
       "\n",
       "                                               roots  \\\n",
       "0  from Old French 'barren' meaning 'empty, unfru...   \n",
       "1  from Latin 'relegare' meaning 'to send back' o...   \n",
       "2  from Old French 'dirge' meaning 'lament', and ...   \n",
       "3  from Latin 'excoriare' meaning 'to strip off t...   \n",
       "4  from Middle English 'curmudgeon' meaning 'mutt...   \n",
       "\n",
       "                         synonyms  \n",
       "0  [infertile, sterile, desolate]  \n",
       "1     [demote, downgrade, demote]  \n",
       "2      [elegy, requiem, threnody]  \n",
       "3     [castigate, denounce, flay]  \n",
       "4          [crank, grouch, miser]  "
      ]
     },
     "execution_count": 17,
     "metadata": {},
     "output_type": "execute_result"
    }
   ],
   "source": [
    "wordsDF.head()"
   ]
  },
  {
   "cell_type": "code",
   "execution_count": 7,
   "metadata": {},
   "outputs": [],
   "source": [
    "wordlist = ['abound', 'amorphous', 'austere', 'belie', 'capricious', 'cerebral', 'congenial', 'conspicuous', 'cursory', 'daunting', 'deify', 'didactic', 'disseminate', 'feasible', 'flout', 'homogeneous', 'humdrum', 'insipid', 'loquacious', 'misanthropic', 'misnomer', 'negligent', 'obsequious', 'placate', 'proclivity', 'puerile', 'quixotic', 'spendthrift', 'taciturn', 'wary']"
   ]
  },
  {
   "cell_type": "code",
   "execution_count": 23,
   "metadata": {},
   "outputs": [
    {
     "data": {
      "text/html": [
       "<div>\n",
       "<style scoped>\n",
       "    .dataframe tbody tr th:only-of-type {\n",
       "        vertical-align: middle;\n",
       "    }\n",
       "\n",
       "    .dataframe tbody tr th {\n",
       "        vertical-align: top;\n",
       "    }\n",
       "\n",
       "    .dataframe thead th {\n",
       "        text-align: right;\n",
       "    }\n",
       "</style>\n",
       "<table border=\"1\" class=\"dataframe\">\n",
       "  <thead>\n",
       "    <tr style=\"text-align: right;\">\n",
       "      <th></th>\n",
       "      <th>word</th>\n",
       "      <th>meaning</th>\n",
       "    </tr>\n",
       "  </thead>\n",
       "  <tbody>\n",
       "    <tr>\n",
       "      <th>446</th>\n",
       "      <td>abound</td>\n",
       "      <td>to exist in large numbers or amounts</td>\n",
       "    </tr>\n",
       "    <tr>\n",
       "      <th>447</th>\n",
       "      <td>austere</td>\n",
       "      <td>very simple and strict, without any comforts o...</td>\n",
       "    </tr>\n",
       "    <tr>\n",
       "      <th>448</th>\n",
       "      <td>belie</td>\n",
       "      <td>to give a wrong or false idea about something</td>\n",
       "    </tr>\n",
       "    <tr>\n",
       "      <th>449</th>\n",
       "      <td>capricious</td>\n",
       "      <td>changing one's mind or mood suddenly and unpre...</td>\n",
       "    </tr>\n",
       "    <tr>\n",
       "      <th>450</th>\n",
       "      <td>cerebral</td>\n",
       "      <td>relating to the brain, especially thinking and...</td>\n",
       "    </tr>\n",
       "  </tbody>\n",
       "</table>\n",
       "</div>"
      ],
      "text/plain": [
       "           word                                            meaning\n",
       "446      abound               to exist in large numbers or amounts\n",
       "447     austere  very simple and strict, without any comforts o...\n",
       "448       belie      to give a wrong or false idea about something\n",
       "449  capricious  changing one's mind or mood suddenly and unpre...\n",
       "450    cerebral  relating to the brain, especially thinking and..."
      ]
     },
     "execution_count": 23,
     "metadata": {},
     "output_type": "execute_result"
    }
   ],
   "source": [
    "wordMeaning = wordsDF[wordsDF['word'].isin(wordlist)][['word','meaning']]\n",
    "wordMeaning.head()"
   ]
  },
  {
   "cell_type": "code",
   "execution_count": 26,
   "metadata": {},
   "outputs": [
    {
     "data": {
      "text/plain": [
       "['abound - to exist in large numbers or amounts',\n",
       " 'austere - very simple and strict, without any comforts or luxuries',\n",
       " 'belie - to give a wrong or false idea about something',\n",
       " \"capricious - changing one's mind or mood suddenly and unpredictably\",\n",
       " 'cerebral - relating to the brain, especially thinking and learning, rather than physical activities',\n",
       " 'congenial - very pleasant and enjoyable because it fits your personality or style',\n",
       " 'conspicuous - easy to see or notice, standing out from the rest',\n",
       " 'cursory - quick and not thorough or detailed',\n",
       " 'deify - to treat someone or something like a god, with great respect and admiration',\n",
       " 'disseminate - to spread information or ideas to many people, especially through writing or teaching',\n",
       " 'flout - to intentionally disobey or show disrespect for a rule or authority',\n",
       " 'humdrum - lacking interest or excitement; repetitive and dull',\n",
       " 'insipid - lacking flavor or excitement',\n",
       " 'loquacious - someone who talks a lot and enjoys talking',\n",
       " 'misanthropic - having a strong dislike or distrust of people in general',\n",
       " 'misnomer - a name or title that does not correctly describe something',\n",
       " 'negligent - not taking enough care or attention to do something properly',\n",
       " 'obsequious - trying too hard to please someone, often in a way that seems insincere or annoying',\n",
       " 'placate - to calm someone down and reduce their anger',\n",
       " 'spendthrift - someone who wastes money by spending it carelessly or excessively',\n",
       " 'wary - feeling careful or suspicious because something might be dangerous or cause trouble',\n",
       " 'amorphous - without a fixed or regular shape',\n",
       " 'daunting - very challenging or intimidating, making you feel scared or hesitant',\n",
       " 'didactic - intended to teach or instruct, but possibly in a way that seems too obvious or annoying',\n",
       " 'feasible - possible to do or achieve with the resources you have',\n",
       " 'homogeneous - made up of similar things or parts',\n",
       " 'proclivity - a natural tendency or inclination to do something',\n",
       " 'puerile - very silly or immature, like a young child',\n",
       " 'quixotic - having very high and often unrealistic hopes or ideas',\n",
       " 'taciturn - someone who does not talk much, preferring to listen']"
      ]
     },
     "execution_count": 26,
     "metadata": {},
     "output_type": "execute_result"
    }
   ],
   "source": [
    "list(map(lambda x: x[0] + ' - ' + x[1], list(zip(wordMeaning.word, wordMeaning.meaning))))"
   ]
  },
  {
   "cell_type": "code",
   "execution_count": 27,
   "metadata": {},
   "outputs": [
    {
     "data": {
      "text/html": [
       "<div>\n",
       "<style scoped>\n",
       "    .dataframe tbody tr th:only-of-type {\n",
       "        vertical-align: middle;\n",
       "    }\n",
       "\n",
       "    .dataframe tbody tr th {\n",
       "        vertical-align: top;\n",
       "    }\n",
       "\n",
       "    .dataframe thead th {\n",
       "        text-align: right;\n",
       "    }\n",
       "</style>\n",
       "<table border=\"1\" class=\"dataframe\">\n",
       "  <thead>\n",
       "    <tr style=\"text-align: right;\">\n",
       "      <th></th>\n",
       "      <th>topic</th>\n",
       "      <th>identifier</th>\n",
       "      <th>essay</th>\n",
       "      <th>words_missed</th>\n",
       "    </tr>\n",
       "  </thead>\n",
       "  <tbody>\n",
       "  </tbody>\n",
       "</table>\n",
       "</div>"
      ],
      "text/plain": [
       "Empty DataFrame\n",
       "Columns: [topic, identifier, essay, words_missed]\n",
       "Index: []"
      ]
     },
     "execution_count": 27,
     "metadata": {},
     "output_type": "execute_result"
    }
   ],
   "source": [
    "essays "
   ]
  },
  {
   "cell_type": "code",
   "execution_count": 28,
   "metadata": {},
   "outputs": [],
   "source": [
    "claude_essay = \"\"\"# Trump vs Biden 2024: A Lexicon of Political Theater\n",
    "\n",
    "The 2024 US presidential race presents an amorphous spectacle where absurdities abound, starring Donald Trump and Joe Biden in a political drama that defies conventional categorization.\n",
    "\n",
    "Trump, with his conspicuous orange hue and capricious decision-making, continues to flout political norms. His proclivity for controversy belies any claims of presidential decorum. Trump's austere policies towards immigration stand in stark contrast to his spendthrift approach to golf outings. His quixotic promise to \"Make America Great Again\" remains as vague and unrealistic as ever, while his misanthropic tweets suggest a deep-seated distrust of anyone who disagrees with him.\n",
    "\n",
    "The former president's handling of the COVID-19 pandemic was notably negligent. His administration's attempts to disseminate misinformation about the virus's severity did little to placate a wary public. Trump's suggestion to inject disinfectants as a treatment was not only puerile but dangerous, demonstrating a cursory understanding of medical science at best.\n",
    "\n",
    "Biden, meanwhile, grapples with his own set of challenges. His loquacious nature often leads to meandering speeches that leave listeners longing for a more taciturn approach. In debates, Biden attempts to appear cerebral, but his didactic style can come across as condescending. His frequent gaffes, from promoting \"President Harris\" to confusing world leaders, make the term \"presidential\" seem like a misnomer when applied to him.\n",
    "\n",
    "The debates between these two political titans promise to be a daunting spectacle. Trump, in his typically obsequious manner towards his base, attacks Biden's policies with statements as substantial as vapor. Biden, in turn, accuses Trump of being fiscally irresponsible, all while struggling to articulate a feasible plan for economic recovery.\n",
    "\n",
    "Both candidates seem determined to deify themselves in the eyes of their supporters. Trump boasts about his business acumen, while Biden reminds voters of his long political career. Their exchanges are less about finding homogeneous solutions to America's problems and more about showcasing their mutual talent for turning simple questions into convoluted responses.\n",
    "\n",
    "As Election Day approaches, voters find themselves navigating a political landscape that is anything but congenial. The choice between a cantankerous reality TV star with a penchant for alternative facts and a gaffe-prone career politician is enough to make even the most enthusiastic citizen feel wary.\n",
    "\n",
    "In this grand theater of the absurd, we're left to sift through a humdrum spectacle of political posturing, hoping for a leader who can rise above the insipid theatrics. The 2024 election is shaping up to be less a serious contest of ideas and more a tragicomedy of Shakespearean proportions.\n",
    "\n",
    "As we brace ourselves for another year of political whiplash, one thing is clear: this election cycle will be anything but boring. It's a stark reminder that in the world of American politics, the line between drama and farce is often blurrier than we'd like to admit.\"\"\""
   ]
  },
  {
   "cell_type": "code",
   "execution_count": 47,
   "metadata": {},
   "outputs": [],
   "source": [
    "insert_essay('Trump vs Biden 2024', 'claude', claude_essay, wordlist)"
   ]
  },
  {
   "cell_type": "code",
   "execution_count": 52,
   "metadata": {},
   "outputs": [
    {
     "data": {
      "text/plain": [
       "['# Trump vs Biden 2024: A Lexicon of Political Theater',\n",
       " 'The 2024 US presidential race presents an amorphous spectacle where absurdities abound, starring Donald Trump and Joe Biden in a political drama that defies conventional categorization.',\n",
       " 'Trump, with his conspicuous orange hue and capricious decision-making, continues to flout political norms. His proclivity for controversy belies any claims of presidential decorum. Trump\\'s austere policies towards immigration stand in stark contrast to his spendthrift approach to golf outings. His quixotic promise to \"Make America Great Again\" remains as vague and unrealistic as ever, while his misanthropic tweets suggest a deep-seated distrust of anyone who disagrees with him.',\n",
       " \"The former president's handling of the COVID-19 pandemic was notably negligent. His administration's attempts to disseminate misinformation about the virus's severity did little to placate a wary public. Trump's suggestion to inject disinfectants as a treatment was not only puerile but dangerous, demonstrating a cursory understanding of medical science at best.\",\n",
       " 'Biden, meanwhile, grapples with his own set of challenges. His loquacious nature often leads to meandering speeches that leave listeners longing for a more taciturn approach. In debates, Biden attempts to appear cerebral, but his didactic style can come across as condescending. His frequent gaffes, from promoting \"President Harris\" to confusing world leaders, make the term \"presidential\" seem like a misnomer when applied to him.',\n",
       " \"The debates between these two political titans promise to be a daunting spectacle. Trump, in his typically obsequious manner towards his base, attacks Biden's policies with statements as substantial as vapor. Biden, in turn, accuses Trump of being fiscally irresponsible, all while struggling to articulate a feasible plan for economic recovery.\",\n",
       " \"Both candidates seem determined to deify themselves in the eyes of their supporters. Trump boasts about his business acumen, while Biden reminds voters of his long political career. Their exchanges are less about finding homogeneous solutions to America's problems and more about showcasing their mutual talent for turning simple questions into convoluted responses.\",\n",
       " 'As Election Day approaches, voters find themselves navigating a political landscape that is anything but congenial. The choice between a cantankerous reality TV star with a penchant for alternative facts and a gaffe-prone career politician is enough to make even the most enthusiastic citizen feel wary.',\n",
       " \"In this grand theater of the absurd, we're left to sift through a humdrum spectacle of political posturing, hoping for a leader who can rise above the insipid theatrics. The 2024 election is shaping up to be less a serious contest of ideas and more a tragicomedy of Shakespearean proportions.\",\n",
       " \"As we brace ourselves for another year of political whiplash, one thing is clear: this election cycle will be anything but boring. It's a stark reminder that in the world of American politics, the line between drama and farce is often blurrier than we'd like to admit.\"]"
      ]
     },
     "execution_count": 52,
     "metadata": {},
     "output_type": "execute_result"
    }
   ],
   "source": [
    "essays['essay'][0].split('\\n\\n')"
   ]
  },
  {
   "cell_type": "code",
   "execution_count": 56,
   "metadata": {},
   "outputs": [],
   "source": [
    "words2 = ['abstain', 'approbation', 'cherish', 'corroborate', 'disparate', 'emulate', 'enervate', 'ephemeral', 'fervid', 'garrulous', 'incendiary', 'inimical', 'intimate ', 'invigorate', 'mitigate', 'obsolete', 'opaque', 'paradigmatic', 'pedantic', 'placid', 'polemical', 'precipitate', 'profundity', 'prophetic', 'prudent', 'punctilious', 'recondite', 'scrupulous', 'tranquil', 'vacillate']"
   ]
  },
  {
   "cell_type": "code",
   "execution_count": 57,
   "metadata": {},
   "outputs": [
    {
     "data": {
      "text/plain": [
       "['abstain - to stop yourself from doing something, especially something you want to do',\n",
       " 'approbation - official or public praise or agreement',\n",
       " 'cherish - to take good care of something or someone with love and affection',\n",
       " 'corroborate - to support or confirm something by providing additional evidence or information',\n",
       " 'disparate - very different in nature or kind, and often difficult to compare',\n",
       " 'enervate - to make someone feel weak, tired, and lacking in energy',\n",
       " 'ephemeral - lasting for a very short time, often too short to notice or remember',\n",
       " 'inimical - causing harm or being opposed to something or someone',\n",
       " 'invigorate - to make someone or something feel more energetic and strong',\n",
       " 'mitigate - to make a problem, injury, or unpleasant situation less severe or painful',\n",
       " 'obsolete - no longer needed or used because something better exists',\n",
       " 'placid - very calm and peaceful, not easily upset or disturbed',\n",
       " 'polemical - strongly arguing or criticizing something in writing or speech',\n",
       " 'precipitate - to make something happen suddenly or earlier than expected',\n",
       " 'prophetic - having the ability to foresee and predict future events accurately',\n",
       " 'punctilious - very careful and exact about details, rules, and manners',\n",
       " 'vacillate - to keep changing your mind or be unsure about what to do',\n",
       " 'emulate - to copy or do even better than someone or something',\n",
       " 'fervid - extremely passionate or excited, sometimes too much',\n",
       " 'garrulous - talking too much, often about unimportant things',\n",
       " 'incendiary - causing or likely to cause anger, arguments, or violence',\n",
       " 'opaque - difficult to see through or understand',\n",
       " 'paradigmatic - showing a perfect or typical example of something',\n",
       " 'pedantic - too focused on small, unimportant details, being overly critical',\n",
       " 'profundity - having or showing a deep understanding of something',\n",
       " 'prudent - being wise and careful in making decisions to avoid problems in the future',\n",
       " \"recondite - difficult to understand because it's not well-known or obscure\",\n",
       " 'scrupulous - very careful and thorough in checking every small detail',\n",
       " 'tranquil - very peaceful and quiet, without any trouble or noise']"
      ]
     },
     "execution_count": 57,
     "metadata": {},
     "output_type": "execute_result"
    }
   ],
   "source": [
    "extract_meaning(words2)"
   ]
  },
  {
   "cell_type": "code",
   "execution_count": 61,
   "metadata": {},
   "outputs": [],
   "source": [
    "boys = \"\"\" \n",
    "At the Seven Tower, Homelander stands by the window, his placid expression belying the storm brewing within. Ashley approaches cautiously, looking particularly enervated.\n",
    "\n",
    "ASHLEY: (nervously) Homelander, sir? There's a... situation.\n",
    "\n",
    "HOMELANDER: (turning slowly) How severe? Do I need to mitigate another PR disaster?\n",
    "\n",
    "ASHLEY: It's... complicated. A new supe. Calls himself The Wordsmith. He's making quite the incendiary statements on social media.\n",
    "\n",
    "HOMELANDER: (scoffing) Sounds positively recondite. What's his power? Boring people to death?\n",
    "\n",
    "ASHLEY: That's just it, sir. His words... they become reality. It's like he's prophetic, but he's creating the future, not just predicting it.\n",
    "\n",
    "HOMELANDER: (suddenly interested) Now that's not obsolete at all. Where is he?\n",
    "\n",
    "On the city streets, Hughie and Annie (Starlight) walk briskly, looking wary.\n",
    "\n",
    "HUGHIE: I don't know, Annie. Butcher's plan seems a bit quixotic. How are we supposed to corroborate The Wordsmith's powers without getting caught in the crossfire?\n",
    "\n",
    "ANNIE: (sighing) I know, but we can't just abstain from action. His words are too dangerous. Remember what happened to that garrulous news anchor?\n",
    "\n",
    "HUGHIE: (shuddering) Point taken. But how do we stop someone whose very speech can precipitate disaster?\n",
    "\n",
    "ANNIE: We need to be prudent about this. Maybe if we—\n",
    "\n",
    "Suddenly, the sky darkens. Words begin to rain down, each one burning like fire where it lands.\n",
    "\n",
    "ANNIE: (shouting) Run!\n",
    "\n",
    "The Wordsmith floats above the city, a fervid gleam in his eyes.\n",
    "\n",
    "THE WORDSMITH: (voice booming) Behold the profundity of my lexicon, you pedantic plebeians! I shall emulate the great orators of history and surpass them!\n",
    "\n",
    "In the Vought boardroom, Stan Edgar addresses a group of executives, looking scrupulously calm despite the chaos outside.\n",
    "\n",
    "STAN: Gentlemen, while The Wordsmith's actions may seem inimical to our interests, I assure you this is a paradigmatic opportunity for Vought.\n",
    "\n",
    "EXECUTIVE 1: (incredulous) An opportunity? He's rewriting reality!\n",
    "\n",
    "STAN: Precisely. And reality, like public opinion, can be shaped. We just need to be... punctilious in our approach.\n",
    "\n",
    "EXECUTIVE 2: But sir, the public's approbation is at an all-time low. How do we spin this?\n",
    "\n",
    "STAN: (smiling coldly) By reminding them why they cherish The Seven. Speaking of which...\n",
    "\n",
    "The disparate members of The Boys (Butcher, Frenchie, Kimiko, and MM) watch from a hidden vantage point as Homelander confronts The Wordsmith mid-air.\n",
    "\n",
    "BUTCHER: Well, well. Two right cunts having a polemical vocabulary measuring contest. How poetic.\n",
    "\n",
    "MM: (worried) This could get ugly fast. That Wordsmith guy is clearly unhinged.\n",
    "\n",
    "FRENCHIE: Oui, but Homelander, he is not exactly the picture of mental health either, non?\n",
    "\n",
    "KIMIKO signs rapidly.\n",
    "\n",
    "FRENCHIE: (translating) Kimiko says we should not vacillate. We must act now while they're distracted.\n",
    "\n",
    "BUTCHER: Right you are, love. Time to invigorate this little party with some grade-A chaos.\n",
    "\n",
    "As The Boys move into action, The Wordsmith and Homelander exchange increasingly bizarre and reality-warping insults. The city around them begins to twist and change with each word, the effects both intimate and opaque.\n",
    "\n",
    "THE WORDSMITH: Your puerile attempts to intimidate me are as ephemeral as your relevance, Homelander!\n",
    "\n",
    "HOMELANDER: (eyes glowing red) Big words from a small man. Let's see how well you enunciate with a laser through your larynx!\n",
    "\n",
    "Suddenly, a tranquil silence falls over the scene. Everyone looks confused.\n",
    "\n",
    "HUGHIE: (whispering to Annie) What just happened?\n",
    "\n",
    "ANNIE: (in awe) I think... they canceled each other out.\n",
    "\n",
    "As the dust settles, The Wordsmith and Homelander are frozen mid-air, mouths open but no sound coming out.\n",
    "\n",
    "BUTCHER: (grinning) Well, I'll be damned. Looks like we found the mute button for both of these wankers.\n",
    "\n",
    "HUGHIE: (voiceover) And that's how we learned that sometimes, the most powerful word of all... is silence.\n",
    "\"\"\""
   ]
  },
  {
   "cell_type": "code",
   "execution_count": 62,
   "metadata": {},
   "outputs": [],
   "source": [
    "insert_essay('The Boys', 'claude_the_boys', boys, words2)"
   ]
  },
  {
   "cell_type": "code",
   "execution_count": 63,
   "metadata": {},
   "outputs": [
    {
     "data": {
      "text/html": [
       "<div>\n",
       "<style scoped>\n",
       "    .dataframe tbody tr th:only-of-type {\n",
       "        vertical-align: middle;\n",
       "    }\n",
       "\n",
       "    .dataframe tbody tr th {\n",
       "        vertical-align: top;\n",
       "    }\n",
       "\n",
       "    .dataframe thead th {\n",
       "        text-align: right;\n",
       "    }\n",
       "</style>\n",
       "<table border=\"1\" class=\"dataframe\">\n",
       "  <thead>\n",
       "    <tr style=\"text-align: right;\">\n",
       "      <th></th>\n",
       "      <th>topic</th>\n",
       "      <th>identifier</th>\n",
       "      <th>essay</th>\n",
       "      <th>words_missed</th>\n",
       "    </tr>\n",
       "  </thead>\n",
       "  <tbody>\n",
       "    <tr>\n",
       "      <th>0</th>\n",
       "      <td>The Boys</td>\n",
       "      <td>claude_the_boys</td>\n",
       "      <td>\\nI understand now. I'll revise the script to...</td>\n",
       "      <td>[disparate, intimate , opaque, polemical]</td>\n",
       "    </tr>\n",
       "    <tr>\n",
       "      <th>0</th>\n",
       "      <td>The Boys</td>\n",
       "      <td>claude_the_boys</td>\n",
       "      <td>\\n# The Boys: A Lexical Adventure\\n\\nAt the S...</td>\n",
       "      <td>[]</td>\n",
       "    </tr>\n",
       "  </tbody>\n",
       "</table>\n",
       "</div>"
      ],
      "text/plain": [
       "      topic       identifier  \\\n",
       "0  The Boys  claude_the_boys   \n",
       "0  The Boys  claude_the_boys   \n",
       "\n",
       "                                               essay  \\\n",
       "0   \\nI understand now. I'll revise the script to...   \n",
       "0   \\n# The Boys: A Lexical Adventure\\n\\nAt the S...   \n",
       "\n",
       "                                words_missed  \n",
       "0  [disparate, intimate , opaque, polemical]  \n",
       "0                                         []  "
      ]
     },
     "execution_count": 63,
     "metadata": {},
     "output_type": "execute_result"
    }
   ],
   "source": [
    "essays"
   ]
  },
  {
   "cell_type": "code",
   "execution_count": 64,
   "metadata": {},
   "outputs": [
    {
     "data": {
      "text/plain": [
       "[' \\n# The Boys: A Lexical Adventure',\n",
       " 'At the Seven Tower, Homelander stands by the window, his placid expression belying the storm brewing within. Ashley approaches cautiously, looking particularly enervated.',\n",
       " \"ASHLEY: (nervously) Homelander, sir? There's a... situation.\",\n",
       " 'HOMELANDER: (turning slowly) How severe? Do I need to mitigate another PR disaster?',\n",
       " \"ASHLEY: It's... complicated. A new supe. Calls himself The Wordsmith. He's making quite the incendiary statements on social media.\",\n",
       " \"HOMELANDER: (scoffing) Sounds positively recondite. What's his power? Boring people to death?\",\n",
       " \"ASHLEY: That's just it, sir. His words... they become reality. It's like he's prophetic, but he's creating the future, not just predicting it.\",\n",
       " \"HOMELANDER: (suddenly interested) Now that's not obsolete at all. Where is he?\",\n",
       " 'On the city streets, Hughie and Annie (Starlight) walk briskly, looking wary.',\n",
       " \"HUGHIE: I don't know, Annie. Butcher's plan seems a bit quixotic. How are we supposed to corroborate The Wordsmith's powers without getting caught in the crossfire?\",\n",
       " \"ANNIE: (sighing) I know, but we can't just abstain from action. His words are too dangerous. Remember what happened to that garrulous news anchor?\",\n",
       " 'HUGHIE: (shuddering) Point taken. But how do we stop someone whose very speech can precipitate disaster?',\n",
       " 'ANNIE: We need to be prudent about this. Maybe if we—',\n",
       " 'Suddenly, the sky darkens. Words begin to rain down, each one burning like fire where it lands.',\n",
       " 'ANNIE: (shouting) Run!',\n",
       " 'The Wordsmith floats above the city, a fervid gleam in his eyes.',\n",
       " 'THE WORDSMITH: (voice booming) Behold the profundity of my lexicon, you pedantic plebeians! I shall emulate the great orators of history and surpass them!',\n",
       " 'In the Vought boardroom, Stan Edgar addresses a group of executives, looking scrupulously calm despite the chaos outside.',\n",
       " \"STAN: Gentlemen, while The Wordsmith's actions may seem inimical to our interests, I assure you this is a paradigmatic opportunity for Vought.\",\n",
       " \"EXECUTIVE 1: (incredulous) An opportunity? He's rewriting reality!\",\n",
       " 'STAN: Precisely. And reality, like public opinion, can be shaped. We just need to be... punctilious in our approach.',\n",
       " \"EXECUTIVE 2: But sir, the public's approbation is at an all-time low. How do we spin this?\",\n",
       " 'STAN: (smiling coldly) By reminding them why they cherish The Seven. Speaking of which...',\n",
       " 'The disparate members of The Boys (Butcher, Frenchie, Kimiko, and MM) watch from a hidden vantage point as Homelander confronts The Wordsmith mid-air.',\n",
       " 'BUTCHER: Well, well. Two right cunts having a polemical vocabulary measuring contest. How poetic.',\n",
       " 'MM: (worried) This could get ugly fast. That Wordsmith guy is clearly unhinged.',\n",
       " 'FRENCHIE: Oui, but Homelander, he is not exactly the picture of mental health either, non?',\n",
       " 'KIMIKO signs rapidly.',\n",
       " \"FRENCHIE: (translating) Kimiko says we should not vacillate. We must act now while they're distracted.\",\n",
       " 'BUTCHER: Right you are, love. Time to invigorate this little party with some grade-A chaos.',\n",
       " 'As The Boys move into action, The Wordsmith and Homelander exchange increasingly bizarre and reality-warping insults. The city around them begins to twist and change with each word, the effects both intimate and opaque.',\n",
       " 'THE WORDSMITH: Your puerile attempts to intimidate me are as ephemeral as your relevance, Homelander!',\n",
       " \"HOMELANDER: (eyes glowing red) Big words from a small man. Let's see how well you enunciate with a laser through your larynx!\",\n",
       " 'Suddenly, a tranquil silence falls over the scene. Everyone looks confused.',\n",
       " 'HUGHIE: (whispering to Annie) What just happened?',\n",
       " 'ANNIE: (in awe) I think... they canceled each other out.',\n",
       " 'As the dust settles, The Wordsmith and Homelander are frozen mid-air, mouths open but no sound coming out.',\n",
       " \"BUTCHER: (grinning) Well, I'll be damned. Looks like we found the mute button for both of these wankers.\",\n",
       " \"HUGHIE: (voiceover) And that's how we learned that sometimes, the most powerful word of all... is silence.\\n\"]"
      ]
     },
     "execution_count": 64,
     "metadata": {},
     "output_type": "execute_result"
    }
   ],
   "source": [
    "boys.split('\\n\\n')"
   ]
  },
  {
   "cell_type": "code",
   "execution_count": 68,
   "metadata": {},
   "outputs": [
    {
     "data": {
      "text/plain": [
       "'hi <i>(hi)</i>'"
      ]
     },
     "execution_count": 68,
     "metadata": {},
     "output_type": "execute_result"
    }
   ],
   "source": [
    "import re\n",
    "\n",
    "def insert_italic_tags(text):\n",
    "    pattern = r'\\((.*?)\\)'\n",
    "    replaced_text = re.sub(pattern, r'<i>(\\1)</i>', text)\n",
    "    return replaced_text\n",
    "\n",
    "insert_italic_tags('hi (hi)')"
   ]
  },
  {
   "cell_type": "code",
   "execution_count": 69,
   "metadata": {},
   "outputs": [
    {
     "data": {
      "text/plain": [
       "[' \\n# The Boys: A Lexical Adventure',\n",
       " 'At the Seven Tower, Homelander stands by the window, his placid expression belying the storm brewing within. Ashley approaches cautiously, looking particularly enervated.',\n",
       " \"ASHLEY: <i>(nervously)</i> Homelander, sir? There's a... situation.\",\n",
       " 'HOMELANDER: <i>(turning slowly)</i> How severe? Do I need to mitigate another PR disaster?',\n",
       " \"ASHLEY: It's... complicated. A new supe. Calls himself The Wordsmith. He's making quite the incendiary statements on social media.\",\n",
       " \"HOMELANDER: <i>(scoffing)</i> Sounds positively recondite. What's his power? Boring people to death?\",\n",
       " \"ASHLEY: That's just it, sir. His words... they become reality. It's like he's prophetic, but he's creating the future, not just predicting it.\",\n",
       " \"HOMELANDER: <i>(suddenly interested)</i> Now that's not obsolete at all. Where is he?\",\n",
       " 'On the city streets, Hughie and Annie <i>(Starlight)</i> walk briskly, looking wary.',\n",
       " \"HUGHIE: I don't know, Annie. Butcher's plan seems a bit quixotic. How are we supposed to corroborate The Wordsmith's powers without getting caught in the crossfire?\",\n",
       " \"ANNIE: <i>(sighing)</i> I know, but we can't just abstain from action. His words are too dangerous. Remember what happened to that garrulous news anchor?\",\n",
       " 'HUGHIE: <i>(shuddering)</i> Point taken. But how do we stop someone whose very speech can precipitate disaster?',\n",
       " 'ANNIE: We need to be prudent about this. Maybe if we—',\n",
       " 'Suddenly, the sky darkens. Words begin to rain down, each one burning like fire where it lands.',\n",
       " 'ANNIE: <i>(shouting)</i> Run!',\n",
       " 'The Wordsmith floats above the city, a fervid gleam in his eyes.',\n",
       " 'THE WORDSMITH: <i>(voice booming)</i> Behold the profundity of my lexicon, you pedantic plebeians! I shall emulate the great orators of history and surpass them!',\n",
       " 'In the Vought boardroom, Stan Edgar addresses a group of executives, looking scrupulously calm despite the chaos outside.',\n",
       " \"STAN: Gentlemen, while The Wordsmith's actions may seem inimical to our interests, I assure you this is a paradigmatic opportunity for Vought.\",\n",
       " \"EXECUTIVE 1: <i>(incredulous)</i> An opportunity? He's rewriting reality!\",\n",
       " 'STAN: Precisely. And reality, like public opinion, can be shaped. We just need to be... punctilious in our approach.',\n",
       " \"EXECUTIVE 2: But sir, the public's approbation is at an all-time low. How do we spin this?\",\n",
       " 'STAN: <i>(smiling coldly)</i> By reminding them why they cherish The Seven. Speaking of which...',\n",
       " 'The disparate members of The Boys <i>(Butcher, Frenchie, Kimiko, and MM)</i> watch from a hidden vantage point as Homelander confronts The Wordsmith mid-air.',\n",
       " 'BUTCHER: Well, well. Two right cunts having a polemical vocabulary measuring contest. How poetic.',\n",
       " 'MM: <i>(worried)</i> This could get ugly fast. That Wordsmith guy is clearly unhinged.',\n",
       " 'FRENCHIE: Oui, but Homelander, he is not exactly the picture of mental health either, non?',\n",
       " 'KIMIKO signs rapidly.',\n",
       " \"FRENCHIE: <i>(translating)</i> Kimiko says we should not vacillate. We must act now while they're distracted.\",\n",
       " 'BUTCHER: Right you are, love. Time to invigorate this little party with some grade-A chaos.',\n",
       " 'As The Boys move into action, The Wordsmith and Homelander exchange increasingly bizarre and reality-warping insults. The city around them begins to twist and change with each word, the effects both intimate and opaque.',\n",
       " 'THE WORDSMITH: Your puerile attempts to intimidate me are as ephemeral as your relevance, Homelander!',\n",
       " \"HOMELANDER: <i>(eyes glowing red)</i> Big words from a small man. Let's see how well you enunciate with a laser through your larynx!\",\n",
       " 'Suddenly, a tranquil silence falls over the scene. Everyone looks confused.',\n",
       " 'HUGHIE: <i>(whispering to Annie)</i> What just happened?',\n",
       " 'ANNIE: <i>(in awe)</i> I think... they canceled each other out.',\n",
       " 'As the dust settles, The Wordsmith and Homelander are frozen mid-air, mouths open but no sound coming out.',\n",
       " \"BUTCHER: <i>(grinning)</i> Well, I'll be damned. Looks like we found the mute button for both of these wankers.\",\n",
       " \"HUGHIE: <i>(voiceover)</i> And that's how we learned that sometimes, the most powerful word of all... is silence.\\n\"]"
      ]
     },
     "execution_count": 69,
     "metadata": {},
     "output_type": "execute_result"
    }
   ],
   "source": [
    "insert_italic_tags(boys).split('\\n\\n')"
   ]
  },
  {
   "cell_type": "code",
   "execution_count": null,
   "metadata": {},
   "outputs": [],
   "source": [
    "[ 'At the Seven Tower, Homelander stands by the window, his placid expression belying the storm brewing within. Ashley approaches cautiously, looking particularly enervated.',\n",
    " \"ASHLEY: <i>(nervously)</i> Homelander, sir? There's a... situation.\",\n",
    " 'HOMELANDER: <i>(turning slowly)</i> How severe? Do I need to mitigate another PR disaster?',\n",
    " \"ASHLEY: It's... complicated. A new supe. Calls himself The Wordsmith. He's making quite the incendiary statements on social media.\",\n",
    " \"HOMELANDER: <i>(scoffing)</i> Sounds positively recondite. What's his power? Boring people to death?\",\n",
    " \"ASHLEY: That's just it, sir. His words... they become reality. It's like he's prophetic, but he's creating the future, not just predicting it.\",\n",
    " \"HOMELANDER: <i>(suddenly interested)</i> Now that's not obsolete at all. Where is he?\",\n",
    " 'On the city streets, Hughie and Annie <i>(Starlight)</i> walk briskly, looking wary.',\n",
    " \"HUGHIE: I don't know, Annie. Butcher's plan seems a bit quixotic. How are we supposed to corroborate The Wordsmith's powers without getting caught in the crossfire?\",\n",
    " \"ANNIE: <i>(sighing)</i> I know, but we can't just abstain from action. His words are too dangerous. Remember what happened to that garrulous news anchor?\",\n",
    " 'HUGHIE: <i>(shuddering)</i> Point taken. But how do we stop someone whose very speech can precipitate disaster?',\n",
    " 'ANNIE: We need to be prudent about this. Maybe if we—',\n",
    " 'Suddenly, the sky darkens. Words begin to rain down, each one burning like fire where it lands.',\n",
    " 'ANNIE: <i>(shouting)</i> Run!',\n",
    " 'The Wordsmith floats above the city, a fervid gleam in his eyes.',\n",
    " 'THE WORDSMITH: <i>(voice booming)</i> Behold the profundity of my lexicon, you pedantic plebeians! I shall emulate the great orators of history and surpass them!',\n",
    " 'In the Vought boardroom, Stan Edgar addresses a group of executives, looking scrupulously calm despite the chaos outside.',\n",
    " \"STAN: Gentlemen, while The Wordsmith's actions may seem inimical to our interests, I assure you this is a paradigmatic opportunity for Vought.\",\n",
    " \"EXECUTIVE 1: <i>(incredulous)</i> An opportunity? He's rewriting reality!\",\n",
    " 'STAN: Precisely. And reality, like public opinion, can be shaped. We just need to be... punctilious in our approach.',\n",
    " \"EXECUTIVE 2: But sir, the public's approbation is at an all-time low. How do we spin this?\",\n",
    " 'STAN: <i>(smiling coldly)</i> By reminding them why they cherish The Seven. Speaking of which...',\n",
    " 'The disparate members of The Boys <i>(Butcher, Frenchie, Kimiko, and MM)</i> watch from a hidden vantage point as Homelander confronts The Wordsmith mid-air.',\n",
    " 'BUTCHER: Well, well. Two right cunts having a polemical vocabulary measuring contest. How poetic.',\n",
    " 'MM: <i>(worried)</i> This could get ugly fast. That Wordsmith guy is clearly unhinged.',\n",
    " 'FRENCHIE: Oui, but Homelander, he is not exactly the picture of mental health either, non?',\n",
    " 'KIMIKO signs rapidly.',\n",
    " \"FRENCHIE: <i>(translating)</i> Kimiko says we should not vacillate. We must act now while they're distracted.\",\n",
    " 'BUTCHER: Right you are, love. Time to invigorate this little party with some grade-A chaos.',\n",
    " 'As The Boys move into action, The Wordsmith and Homelander exchange increasingly bizarre and reality-warping insults. The city around them begins to twist and change with each word, the effects both intimate and opaque.',\n",
    " 'THE WORDSMITH: Your puerile attempts to intimidate me are as ephemeral as your relevance, Homelander!',\n",
    " \"HOMELANDER: <i>(eyes glowing red)</i> Big words from a small man. Let's see how well you enunciate with a laser through your larynx!\",\n",
    " 'Suddenly, a tranquil silence falls over the scene. Everyone looks confused.',\n",
    " 'HUGHIE: <i>(whispering to Annie)</i> What just happened?',\n",
    " 'ANNIE: <i>(in awe)</i> I think... they canceled each other out.',\n",
    " 'As the dust settles, The Wordsmith and Homelander are frozen mid-air, mouths open but no sound coming out.',\n",
    " \"BUTCHER: <i>(grinning)</i> Well, I'll be damned. Looks like we found the mute button for both of these wankers.\",\n",
    " \"HUGHIE: <i>(voiceover)</i> And that's how we learned that sometimes, the most powerful word of all... is silence.\\n\"]"
   ]
  }
 ],
 "metadata": {
  "kernelspec": {
   "display_name": "Python 3",
   "language": "python",
   "name": "python3"
  },
  "language_info": {
   "codemirror_mode": {
    "name": "ipython",
    "version": 3
   },
   "file_extension": ".py",
   "mimetype": "text/x-python",
   "name": "python",
   "nbconvert_exporter": "python",
   "pygments_lexer": "ipython3",
   "version": "3.10.13"
  }
 },
 "nbformat": 4,
 "nbformat_minor": 2
}
