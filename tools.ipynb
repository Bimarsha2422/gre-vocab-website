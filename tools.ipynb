{
 "cells": [
  {
   "cell_type": "code",
   "execution_count": 2,
   "metadata": {},
   "outputs": [],
   "source": [
    "import os \n",
    "\n",
    "write_file = 'allCode'\n",
    "files = ['index.html', 'script.js', 'router.js', 'styles.css', 'landing-script.js', 'series-page-template.html', 'words.js']\n",
    "\n",
    "for file in files:\n",
    "    with open(file, 'r') as f:\n",
    "        with open(write_file, 'a') as w:\n",
    "            w.write('###' + file + '\\n')\n",
    "            w.write('```\\n')\n",
    "            w.write(f.read())\n",
    "            w.write('```\\n')\n",
    "            w.write('\\n') \n",
    "\n",
    "    \n",
    "            "
   ]
  },
  {
   "cell_type": "code",
   "execution_count": null,
   "metadata": {},
   "outputs": [],
   "source": []
  }
 ],
 "metadata": {
  "kernelspec": {
   "display_name": "Python 3",
   "language": "python",
   "name": "python3"
  },
  "language_info": {
   "codemirror_mode": {
    "name": "ipython",
    "version": 3
   },
   "file_extension": ".py",
   "mimetype": "text/x-python",
   "name": "python",
   "nbconvert_exporter": "python",
   "pygments_lexer": "ipython3",
   "version": "3.10.13"
  }
 },
 "nbformat": 4,
 "nbformat_minor": 2
}
